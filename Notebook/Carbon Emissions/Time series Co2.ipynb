{
 "cells": [
  {
   "cell_type": "markdown",
   "id": "f3db0d56",
   "metadata": {},
   "source": [
    "# Model time series Co2"
   ]
  },
  {
   "cell_type": "code",
   "execution_count": null,
   "id": "0f9e707f",
   "metadata": {},
   "outputs": [],
   "source": [
    "# Versão do python\n",
    "\n",
    "from platform import python_version\n",
    "\n",
    "print('Versão python neste Jupyter Notebook:', python_version())"
   ]
  },
  {
   "cell_type": "code",
   "execution_count": null,
   "id": "70c595f7",
   "metadata": {},
   "outputs": [],
   "source": [
    "# Importação das bibliotecas \n",
    "\n",
    "import pandas as pd # Pandas carregamento csv\n",
    "import numpy as np # Numpy para carregamento cálculos em arrays multidimensionais\n",
    "\n",
    "# Visualização de dados\n",
    "import seaborn as sns\n",
    "import matplotlib as m\n",
    "import matplotlib as mpl\n",
    "import matplotlib.pyplot as plt\n",
    "import plotly\n",
    "import plotly.express as px\n",
    "\n",
    "# Carregar as versões das bibliotecas\n",
    "import watermark\n",
    "\n",
    "# Warnings retirar alertas \n",
    "import warnings\n",
    "warnings.filterwarnings(\"ignore\")"
   ]
  },
  {
   "cell_type": "code",
   "execution_count": null,
   "id": "8e84d0b5",
   "metadata": {},
   "outputs": [],
   "source": [
    "# Versões das bibliotecas\n",
    "\n",
    "%reload_ext watermark\n",
    "%watermark -a \"Versões das bibliotecas\" --iversions"
   ]
  },
  {
   "cell_type": "code",
   "execution_count": null,
   "id": "c4baf7d4",
   "metadata": {},
   "outputs": [],
   "source": [
    "# Configuração para os gráficos largura e layout dos graficos\n",
    "from matplotlib import style \n",
    "\n",
    "sns.set_palette(\"Accent\")\n",
    "style.use('fivethirtyeight')\n",
    "color = sns.color_palette()"
   ]
  },
  {
   "cell_type": "code",
   "execution_count": null,
   "id": "c28049d6",
   "metadata": {},
   "outputs": [],
   "source": [
    "# Carregando a base de dados\n",
    "data = pd.read_csv(\"data.csv\")"
   ]
  },
  {
   "cell_type": "code",
   "execution_count": null,
   "id": "0cfd8300",
   "metadata": {},
   "outputs": [],
   "source": [
    "# Exibido 5 primeiros dados\n",
    "\n",
    "data.head(25)"
   ]
  },
  {
   "cell_type": "code",
   "execution_count": null,
   "id": "2b27bd96",
   "metadata": {},
   "outputs": [],
   "source": [
    "# Exibido 5 últimos dados \n",
    "\n",
    "data.tail()"
   ]
  },
  {
   "cell_type": "code",
   "execution_count": null,
   "id": "af1e82d2",
   "metadata": {},
   "outputs": [],
   "source": [
    "# Número de linhas e colunas\n",
    "\n",
    "data.shape"
   ]
  },
  {
   "cell_type": "code",
   "execution_count": null,
   "id": "92672ca8",
   "metadata": {},
   "outputs": [],
   "source": [
    "# Verificando informações das variaveis\n",
    "\n",
    "data.info()"
   ]
  },
  {
   "cell_type": "code",
   "execution_count": null,
   "id": "2f519240",
   "metadata": {},
   "outputs": [],
   "source": [
    "# Exibido tipos de dados\n",
    "\n",
    "data.dtypes"
   ]
  },
  {
   "cell_type": "code",
   "execution_count": null,
   "id": "413eab7d",
   "metadata": {},
   "outputs": [],
   "source": []
  }
 ],
 "metadata": {
  "kernelspec": {
   "display_name": "Python 3 (ipykernel)",
   "language": "python",
   "name": "python3"
  },
  "language_info": {
   "codemirror_mode": {
    "name": "ipython",
    "version": 3
   },
   "file_extension": ".py",
   "mimetype": "text/x-python",
   "name": "python",
   "nbconvert_exporter": "python",
   "pygments_lexer": "ipython3",
   "version": "3.9.7"
  }
 },
 "nbformat": 4,
 "nbformat_minor": 5
}
