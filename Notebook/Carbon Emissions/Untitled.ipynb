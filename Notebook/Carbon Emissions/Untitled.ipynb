{
 "cells": [
  {
   "cell_type": "markdown",
   "id": "9699e05f",
   "metadata": {},
   "source": [
    "# Importação das bibliotecas"
   ]
  },
  {
   "cell_type": "code",
   "execution_count": 2,
   "id": "6204077a",
   "metadata": {},
   "outputs": [],
   "source": [
    "#install.packages(\"summarytools\")\n",
    "#install.packages(\"tseries\")\n",
    "#install.packages(\"forecast\")\n",
    "\n",
    "library(forecast)\n",
    "library(ggplot2)\n",
    "library(tseries)\n",
    "library(summarytools)"
   ]
  },
  {
   "cell_type": "code",
   "execution_count": 9,
   "id": "750989de",
   "metadata": {},
   "outputs": [
    {
     "ename": "ERROR",
     "evalue": "Error in read_csv(\"MER_T12_06.csv\"): não foi possível encontrar a função \"read_csv\"\n",
     "output_type": "error",
     "traceback": [
      "Error in read_csv(\"MER_T12_06.csv\"): não foi possível encontrar a função \"read_csv\"\nTraceback:\n"
     ]
    }
   ],
   "source": [
    "df <- read_csv(\"MER_T12_06.csv\")"
   ]
  },
  {
   "cell_type": "code",
   "execution_count": null,
   "id": "7dfa13f4",
   "metadata": {},
   "outputs": [],
   "source": []
  }
 ],
 "metadata": {
  "kernelspec": {
   "display_name": "R",
   "language": "R",
   "name": "ir"
  },
  "language_info": {
   "codemirror_mode": "r",
   "file_extension": ".r",
   "mimetype": "text/x-r-source",
   "name": "R",
   "pygments_lexer": "r",
   "version": "3.6.1"
  }
 },
 "nbformat": 4,
 "nbformat_minor": 5
}
